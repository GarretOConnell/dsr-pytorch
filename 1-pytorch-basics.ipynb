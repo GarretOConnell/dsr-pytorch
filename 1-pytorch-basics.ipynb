{
 "cells": [
  {
   "cell_type": "code",
   "execution_count": 23,
   "metadata": {},
   "outputs": [
    {
     "name": "stdout",
     "output_type": "stream",
     "text": [
      "Requirement already satisfied: torchsummary in /home/i008/anaconda3/lib/python3.6/site-packages (1.5.1)\n",
      "\u001b[33mYou are using pip version 18.0, however version 18.1 is available.\n",
      "You should consider upgrading via the 'pip install --upgrade pip' command.\u001b[0m\n"
     ]
    }
   ],
   "source": [
    "import torch \n",
    "import torchvision\n",
    "import torch.nn as nn\n",
    "import numpy as np\n",
    "import torchvision.transforms as transforms\n",
    "import torch.nn.functional as F\n",
    "import matplotlib.pyplot as plt\n",
    "\n",
    "!pip install torchsummary\n",
    "import torchsummary"
   ]
  },
  {
   "cell_type": "markdown",
   "metadata": {},
   "source": [
    "### Tensor basics"
   ]
  },
  {
   "cell_type": "code",
   "execution_count": 4,
   "metadata": {},
   "outputs": [
    {
     "data": {
      "text/plain": [
       "torch.Size([455, 1067, 3])"
      ]
     },
     "execution_count": 4,
     "metadata": {},
     "output_type": "execute_result"
    }
   ],
   "source": [
    "T = torch.from_numpy(np.array([1,2,3,4])).float()\n",
    "T.exp_() # inplace operations end with _\n",
    "\n",
    "# T.cuda() # moves data to GPU memory\n",
    "numpy_Tensor = T.cpu().numpy() # create a numpy array out of torch.Tensor \n",
    "\n",
    "T.to('cpu')\n",
    "# T.to('cuda')\n",
    "\n",
    "im = plt.imread('/home/i008/widget.png')\n",
    "torch.from_numpy(im).shape"
   ]
  },
  {
   "cell_type": "markdown",
   "metadata": {},
   "source": [
    "### Autograd"
   ]
  },
  {
   "cell_type": "code",
   "execution_count": 5,
   "metadata": {},
   "outputs": [
    {
     "name": "stdout",
     "output_type": "stream",
     "text": [
      "The derivative of x ** 2 is 2x\n",
      "result: 20.0\n"
     ]
    }
   ],
   "source": [
    "# Create tensors.\n",
    "x = torch.tensor(10., requires_grad=True)\n",
    "\n",
    "# Create the computetional graph\n",
    "res = x ** 2\n",
    "\n",
    "# propagate the gradients\n",
    "res.backward()\n",
    "\n",
    "# Print out the gradients.\n",
    "print(\"The derivative of x ** 2 is 2x\")\n",
    "print(\"result:\", float(x.grad))  "
   ]
  },
  {
   "cell_type": "markdown",
   "metadata": {},
   "source": [
    "# Loss Functions"
   ]
  },
  {
   "cell_type": "code",
   "execution_count": 42,
   "metadata": {},
   "outputs": [
    {
     "name": "stdout",
     "output_type": "stream",
     "text": [
      "Cross Entropy:\n",
      "tensor(1.1043)\n",
      "tensor(0.0833)\n",
      "tensor(0.0833)\n"
     ]
    }
   ],
   "source": [
    "preds = torch.Tensor([[0.2, 0.8],[0.9, 0.1]]).float()\n",
    "target = torch.Tensor([0, 1]).long()\n",
    "\n",
    "print(\"Cross Entropy:\")\n",
    "print(F.cross_entropy(preds, target))\n",
    "# print(nn.CrossEntropyLoss()(preds, target))\n",
    "\n",
    "\n",
    "preds = torch.Tensor([[1],[2],[0.9]])\n",
    "target = torch.Tensor([[1.3], [2.4], [0.9]])\n",
    "\n",
    "print(F.mse_loss(preds, target))\n",
    "print(nn.MSELoss()(preds, target))"
   ]
  },
  {
   "cell_type": "markdown",
   "metadata": {},
   "source": [
    "### Disable gradient computation with no_grad context manager (useful during inference)"
   ]
  },
  {
   "cell_type": "code",
   "execution_count": 6,
   "metadata": {},
   "outputs": [
    {
     "name": "stdout",
     "output_type": "stream",
     "text": [
      "tensor([1., 4., 9.])\n",
      "None\n"
     ]
    }
   ],
   "source": [
    "with torch.no_grad():\n",
    "    t = torch.tensor([1,2,3]).float()\n",
    "    t = t ** 2\n",
    "    print(t)\n",
    "    print(t.grad)"
   ]
  },
  {
   "cell_type": "markdown",
   "metadata": {},
   "source": [
    "### get the available computational device CUDA if availble otherwise CPU\n"
   ]
  },
  {
   "cell_type": "code",
   "execution_count": 7,
   "metadata": {},
   "outputs": [
    {
     "name": "stdout",
     "output_type": "stream",
     "text": [
      "cuda\n"
     ]
    }
   ],
   "source": [
    "DEVICE = 'cuda' if torch.cuda.is_available() else 'cpu'\n",
    "print(DEVICE)"
   ]
  },
  {
   "cell_type": "markdown",
   "metadata": {},
   "source": [
    "### Use the view function to get a new tensor with a different shape  but without touching the memory\n"
   ]
  },
  {
   "cell_type": "code",
   "execution_count": 8,
   "metadata": {},
   "outputs": [
    {
     "data": {
      "text/plain": [
       "tensor([[1., 4., 9.]])"
      ]
     },
     "execution_count": 8,
     "metadata": {},
     "output_type": "execute_result"
    }
   ],
   "source": [
    "t1 = torch.randn(1,5)\n",
    "t1.view(5,1)\n",
    "\n",
    "t.squeeze(0) # remove first dimension\n",
    "t.unsqueeze(0) # expand by adding the first dimension"
   ]
  },
  {
   "cell_type": "markdown",
   "metadata": {},
   "source": [
    "### Defining models\n",
    "![alt text](https://i.stack.imgur.com/2MVdW.png \"Title\")\n"
   ]
  },
  {
   "cell_type": "code",
   "execution_count": 11,
   "metadata": {},
   "outputs": [
    {
     "name": "stdout",
     "output_type": "stream",
     "text": [
      "----------------------------------------------------------------\n",
      "        Layer (type)               Output Shape         Param #\n",
      "================================================================\n",
      "            Linear-1        [-1, 1, 1000, 1000]       1,001,000\n",
      "================================================================\n",
      "Total params: 1,001,000\n",
      "Trainable params: 1,001,000\n",
      "Non-trainable params: 0\n",
      "----------------------------------------------------------------\n",
      "Input size (MB): 3.81\n",
      "Forward/backward pass size (MB): 7.63\n",
      "Params size (MB): 3.82\n",
      "Estimated Total Size (MB): 15.26\n",
      "----------------------------------------------------------------\n"
     ]
    }
   ],
   "source": [
    "class Perceptron(nn.Module):\n",
    "    def __init__(self, n_in, n_out):\n",
    "        super(Perceptron, self).__init__()\n",
    "        self.fc = nn.Linear(n_in, n_out, bias=True)\n",
    "\n",
    "    def forward(self, x):\n",
    "        return self.fc(x)\n",
    "\n",
    "perceptron = torch.nn.Sequential(nn.Linear(1000, 1000))\n",
    "p = Perceptron(1000, 1000)\n",
    "torchsummary.summary(p.to(DEVICE), input_size=(1,1000,1000))"
   ]
  },
  {
   "cell_type": "code",
   "execution_count": 12,
   "metadata": {
    "scrolled": true
   },
   "outputs": [
    {
     "name": "stdout",
     "output_type": "stream",
     "text": [
      "add_module\n",
      "apply\n",
      "buffers\n",
      "children\n",
      "cpu\n",
      "cuda\n",
      "double\n",
      "dump_patches\n",
      "eval\n",
      "extra_repr\n",
      "fc\n",
      "float\n",
      "forward\n",
      "half\n",
      "load_state_dict\n",
      "modules\n",
      "named_buffers\n",
      "named_children\n",
      "named_modules\n",
      "named_parameters\n",
      "parameters\n",
      "register_backward_hook\n",
      "register_buffer\n",
      "register_forward_hook\n",
      "register_forward_pre_hook\n",
      "register_parameter\n",
      "share_memory\n",
      "state_dict\n",
      "to\n",
      "train\n",
      "training\n",
      "type\n",
      "zero_grad\n"
     ]
    }
   ],
   "source": [
    "for method in dir(p):\n",
    "    if not method.startswith('_'): print(method)"
   ]
  },
  {
   "cell_type": "markdown",
   "metadata": {},
   "source": [
    "### Custom model weights"
   ]
  },
  {
   "cell_type": "code",
   "execution_count": 10,
   "metadata": {},
   "outputs": [
    {
     "data": {
      "text/plain": [
       "Perceptron(\n",
       "  (fc): Linear(in_features=1000, out_features=1000, bias=True)\n",
       ")"
      ]
     },
     "execution_count": 10,
     "metadata": {},
     "output_type": "execute_result"
    }
   ],
   "source": [
    "def custom_weights(m):\n",
    "    if type(m) == nn.Linear:\n",
    "        torch.nn.init.xavier_uniform_(m.weight)\n",
    "        m.bias.data.fill_(0.01)\n",
    "        \n",
    "p.apply(custom_weights)"
   ]
  },
  {
   "cell_type": "markdown",
   "metadata": {},
   "source": [
    "### Model persistance and loading"
   ]
  },
  {
   "cell_type": "code",
   "execution_count": 59,
   "metadata": {},
   "outputs": [
    {
     "name": "stdout",
     "output_type": "stream",
     "text": [
      "OrderedDict([('fc.weight', tensor([[-0.2540, -0.1115],\n",
      "        [ 0.2427, -0.0376]])), ('fc.bias', tensor([-0.6197,  0.5179]))])\n"
     ]
    }
   ],
   "source": [
    "p = Perceptron(2, 2)\n",
    "torch.save(p.state_dict(), 'model.torch')\n",
    "p.load_state_dict(torch.load('model.torch'))\n",
    "\n",
    "\n",
    "print(p.state_dict())\n"
   ]
  },
  {
   "cell_type": "markdown",
   "metadata": {},
   "source": [
    "### Parameters"
   ]
  },
  {
   "cell_type": "code",
   "execution_count": 62,
   "metadata": {},
   "outputs": [
    {
     "name": "stdout",
     "output_type": "stream",
     "text": [
      "Parameter containing:\n",
      "tensor([[-0.2540, -0.1115],\n",
      "        [ 0.2427, -0.0376]], requires_grad=True)\n",
      "Parameter containing:\n",
      "tensor([-0.6197,  0.5179], requires_grad=True)\n"
     ]
    }
   ],
   "source": [
    "for params in p.parameters():\n",
    "    print(params)"
   ]
  },
  {
   "cell_type": "markdown",
   "metadata": {},
   "source": [
    "### Activation functions"
   ]
  },
  {
   "cell_type": "code",
   "execution_count": 236,
   "metadata": {},
   "outputs": [
    {
     "data": {
      "image/png": "[encoded data removed]",
      "text/plain": [
       "<Figure size 576x432 with 4 Axes>"
      ]
     },
     "metadata": {
      "needs_background": "light"
     },
     "output_type": "display_data"
    }
   ],
   "source": [
    "\n",
    "# fake data\n",
    "x = torch.linspace(-5, 5, 200)  # x data (tensor), shape=(100, 1)\n",
    "x = Variable(x)\n",
    "x_np = x.data.numpy()   # numpy array for plotting\n",
    "\n",
    "# following are popular activation functions\n",
    "y_relu = torch.relu(x).data.numpy()\n",
    "y_sigmoid = torch.sigmoid(x).data.numpy()\n",
    "y_tanh = torch.tanh(x).data.numpy()\n",
    "y_softplus = F.leaky_relu(x, negative_slope=0.1).data.numpy() # there's no softplus in torch\n",
    "# y_softmax = torch.softmax(x, dim=0).data.numpy() softmax is a special kind of activation function, it is about probability\n",
    "\n",
    "# plt to visualize these activation function\n",
    "plt.figure(1, figsize=(8, 6))\n",
    "plt.subplot(221)\n",
    "plt.plot(x_np, y_relu, c='red', label='relu')\n",
    "plt.ylim((-1, 5))\n",
    "plt.legend(loc='best')\n",
    "\n",
    "plt.subplot(222)\n",
    "plt.plot(x_np, y_sigmoid, c='red', label='sigmoid')\n",
    "plt.ylim((-0.2, 1.2))\n",
    "plt.legend(loc='best')\n",
    "\n",
    "plt.subplot(223)\n",
    "plt.plot(x_np, y_tanh, c='red', label='tanh')\n",
    "plt.ylim((-1.2, 1.2))\n",
    "plt.legend(loc='best')\n",
    "\n",
    "plt.subplot(224)\n",
    "plt.plot(x_np, y_softplus, c='red', label='leaky relu')\n",
    "plt.ylim((-0.2, 6))\n",
    "plt.legend(loc='best')\n",
    "\n",
    "plt.show()"
   ]
  },
  {
   "cell_type": "markdown",
   "metadata": {},
   "source": [
    "### Modularity"
   ]
  },
  {
   "cell_type": "code",
   "execution_count": 21,
   "metadata": {},
   "outputs": [],
   "source": [
    "\n",
    "\n",
    "\n",
    "class My_Model(nn.Module):\n",
    "        \n",
    "    def conv_bn_pool(inch, outch, kernel_size=3):\n",
    "        return  nn.Sequential(\n",
    "                    nn.Conv2d(inch, outch, kernel_size=3, stride=1, padding=1),\n",
    "                    nn.BatchNorm2d(outch),\n",
    "                    nn.ReLU(),\n",
    "                    nn.MaxPool2d(kernel_size=2, stride=2))\n",
    "\n",
    "\n",
    "    def __init__(self, num_of_class):\n",
    "        super(My_Model, self).__init__()\n",
    "        \n",
    "        self.layer1 = conv_bn_pool(1, 16)\n",
    "        self.layer2 = conv_bn_pool(16, 32)\n",
    "        self.fc = nn.Linear(7 * 7 * 32, num_of_class)\n",
    "\n",
    "    def forward(self, x):\n",
    "        out = self.layer1(x)\n",
    "        out = self.layer2(out)\n",
    "        out = out.reshape(out.size(0), -1)\n",
    "        out = self.fc(out)\n",
    "        return out\n",
    "    \n"
   ]
  },
  {
   "cell_type": "code",
   "execution_count": 22,
   "metadata": {},
   "outputs": [
    {
     "name": "stdout",
     "output_type": "stream",
     "text": [
      "----------------------------------------------------------------\n",
      "        Layer (type)               Output Shape         Param #\n",
      "================================================================\n",
      "            Conv2d-1           [-1, 16, 28, 28]             160\n",
      "       BatchNorm2d-2           [-1, 16, 28, 28]              32\n",
      "              ReLU-3           [-1, 16, 28, 28]               0\n",
      "         MaxPool2d-4           [-1, 16, 14, 14]               0\n",
      "            Conv2d-5           [-1, 32, 14, 14]           4,640\n",
      "       BatchNorm2d-6           [-1, 32, 14, 14]              64\n",
      "              ReLU-7           [-1, 32, 14, 14]               0\n",
      "         MaxPool2d-8             [-1, 32, 7, 7]               0\n",
      "            Linear-9                  [-1, 100]         156,900\n",
      "================================================================\n",
      "Total params: 161,796\n",
      "Trainable params: 161,796\n",
      "Non-trainable params: 0\n",
      "----------------------------------------------------------------\n",
      "Input size (MB): 0.00\n",
      "Forward/backward pass size (MB): 0.47\n",
      "Params size (MB): 0.62\n",
      "Estimated Total Size (MB): 1.09\n",
      "----------------------------------------------------------------\n"
     ]
    }
   ],
   "source": [
    "net = My_Model(100)\n",
    "torchsummary.summary(net.to(DEVICE), (1, 28, 28))"
   ]
  },
  {
   "cell_type": "markdown",
   "metadata": {},
   "source": [
    "### 1 Generate a random  torch Tensor  with a depth of 32 and with/height 64  pass it trough a 2d max_pool operation"
   ]
  },
  {
   "cell_type": "code",
   "execution_count": 26,
   "metadata": {},
   "outputs": [
    {
     "data": {
      "text/plain": [
       "torch.Size([32, 32, 32])"
      ]
     },
     "execution_count": 26,
     "metadata": {},
     "output_type": "execute_result"
    }
   ],
   "source": [
    "# Your code here"
   ]
  },
  {
   "cell_type": "markdown",
   "metadata": {},
   "source": [
    "### 2 Its a common operation to find the index where a tensor has the  a max value. \n",
    "For instance given a tensor   [0.1, 0.5, 0.9] you would like to get the number 2. as 0.9 is the max value (remember python uses 0-indexing most of the time)"
   ]
  },
  {
   "cell_type": "code",
   "execution_count": 34,
   "metadata": {
    "collapsed": true,
    "scrolled": true
   },
   "outputs": [],
   "source": [
    "# This could be a output tensor from a 10-class classification problem and a batch size od 32. \n",
    "# How do you find the index of the max value in each of the batches?\n",
    "tensor = torch.randn((32, 10))\n",
    "# Your code here"
   ]
  },
  {
   "cell_type": "markdown",
   "metadata": {
    "collapsed": true
   },
   "source": [
    "### 3 Reshaping\n"
   ]
  },
  {
   "cell_type": "code",
   "execution_count": 35,
   "metadata": {
    "collapsed": true
   },
   "outputs": [],
   "source": [
    "# Change X shape into (10, 3)\n",
    "X = torch.ones(5, 6)\n",
    "# Y = ?\n",
    "\n",
    "# Remove all the dimensions of size 1 in X.\n",
    "\n",
    "X = torch.randn(10, 10, 1, 1)\n",
    "# Y = ?\n"
   ]
  },
  {
   "cell_type": "markdown",
   "metadata": {},
   "source": [
    "### 4 Stacking"
   ]
  },
  {
   "cell_type": "code",
   "execution_count": null,
   "metadata": {
    "collapsed": true
   },
   "outputs": [],
   "source": [
    "# stack x, y, and z vertically.\n",
    "\n",
    "x = torch.Tensor([1, 4])\n",
    "y = torch.Tensor([2, 5])\n",
    "z = torch.Tensor([3, 6])\n",
    "\n",
    "# O = ?\n",
    "# print(O)"
   ]
  },
  {
   "cell_type": "code",
   "execution_count": 47,
   "metadata": {
    "collapsed": true
   },
   "outputs": [],
   "source": [
    "### Counting \n",
    "# Get the indices of all nonzero elements in X.\n",
    "X = torch.Tensor([[0,1,7,0,0],[3,0,0,2,19]])\n",
    "# y = ?"
   ]
  },
  {
   "cell_type": "markdown",
   "metadata": {},
   "source": [
    "### nn.Conv"
   ]
  },
  {
   "cell_type": "code",
   "execution_count": 46,
   "metadata": {},
   "outputs": [
    {
     "name": "stdout",
     "output_type": "stream",
     "text": [
      "torch.Size([1, 64, 6, 6])\n"
     ]
    }
   ],
   "source": [
    "# Why is the output of this cell a tensor with a shape 1,64,6,6 - what can we do to get the same input and output shape\n",
    "\n",
    "v =torch.rand(1, 32, 8, 8)\n",
    "print(nn.Conv2d(32, 64, 3)(v).shape)\n"
   ]
  },
  {
   "cell_type": "code",
   "execution_count": null,
   "metadata": {
    "collapsed": true
   },
   "outputs": [],
   "source": []
  }
 ],
 "metadata": {
  "kernelspec": {
   "display_name": "Python [conda env:anaconda3]",
   "language": "python",
   "name": "conda-env-anaconda3-py"
  },
  "language_info": {
   "codemirror_mode": {
    "name": "ipython",
    "version": 3
   },
   "file_extension": ".py",
   "mimetype": "text/x-python",
   "name": "python",
   "nbconvert_exporter": "python",
   "pygments_lexer": "ipython3",
   "version": "3.6.4"
  }
 },
 "nbformat": 4,
 "nbformat_minor": 2
}
